{
 "cells": [
  {
   "cell_type": "code",
   "execution_count": null,
   "metadata": {},
   "outputs": [],
   "source": [
    "import numpy as np\n",
    "import pandas as pd\n",
    "import pyBigWig\n",
    "import matplotlib.pyplot as plt"
   ]
  },
  {
   "cell_type": "code",
   "execution_count": null,
   "metadata": {},
   "outputs": [],
   "source": [
    "rna_bw = pyBigWig.open(\"rna.bw\")\n",
    "atac_bw = pyBigWig.open(\"atac.bigWig\")"
   ]
  },
  {
   "cell_type": "code",
   "execution_count": null,
   "metadata": {},
   "outputs": [],
   "source": [
    "rna_intervals =rna_bw.intervals('chr19')\n",
    "atac_intervals = atac_bw.intervals('chr19')"
   ]
  },
  {
   "cell_type": "code",
   "execution_count": null,
   "metadata": {},
   "outputs": [],
   "source": [
    "#atac_intervals\n",
    "#rna_bw.stats('chr19',477300,477301)[0]"
   ]
  },
  {
   "cell_type": "code",
   "execution_count": null,
   "metadata": {},
   "outputs": [],
   "source": [
    "\n",
    "rna_base=[]; rna_signal=[]\n",
    "atac_base=[]; atac_signal=[]\n",
    "for interv in rna_intervals:\n",
    "    for i in range(interv[0]+1,interv[1]+1):\n",
    "        rna_base.append(i)\n",
    "        rna_signal.append(interv[2])\n",
    "        \n",
    "for interv in atac_intervals:\n",
    "    if interv[2]:\n",
    "        for i in range(interv[0]+1,interv[1]+1):\n",
    "            atac_base.append(i)\n",
    "            atac_signal.append(interv[2])\n"
   ]
  },
  {
   "cell_type": "code",
   "execution_count": null,
   "metadata": {},
   "outputs": [],
   "source": [
    "#atac_base"
   ]
  },
  {
   "cell_type": "code",
   "execution_count": null,
   "metadata": {},
   "outputs": [],
   "source": [
    "\n",
    "plt.figure()\n",
    "plt.title(\"Gene qualification of rna-seq-pipeline\")\n",
    "plt.plot(rna_base, rna_signal)\n",
    "plt.xlim((0,59000000))\n",
    "\n",
    "plt.show()\n"
   ]
  },
  {
   "cell_type": "code",
   "execution_count": null,
   "metadata": {},
   "outputs": [],
   "source": [
    "\n",
    "plt.figure()\n",
    "plt.title(\"Signal of atac-seq-pipeline\")\n",
    "plt.plot(atac_base, atac_signal)\n",
    "plt.xlim((0,59000000))\n",
    "plt.ylim((0,160))\n",
    "\n",
    "plt.show()\n"
   ]
  },
  {
   "cell_type": "code",
   "execution_count": null,
   "metadata": {},
   "outputs": [],
   "source": [
    "part = []\n",
    "for ranges in rna_intervals:\n",
    "    for i in range(ranges[0]+1,ranges[1]+1):\n",
    "        part.append(i)"
   ]
  },
  {
   "cell_type": "code",
   "execution_count": null,
   "metadata": {},
   "outputs": [],
   "source": [
    "#part"
   ]
  },
  {
   "cell_type": "code",
   "execution_count": null,
   "metadata": {},
   "outputs": [],
   "source": [
    "sep_all = []\n",
    "sep = []\n",
    "for i in range(len(part)-1):\n",
    "    if part[i]+1 == part[i+1]:\n",
    "        sep.append((part[i],rna_bw.stats(\"chr19\",part[i]-1,part[i])[0]))\n",
    "    else:\n",
    "        sep.append((part[i],rna_bw.stats(\"chr19\",part[i]-1,part[i])[0]))\n",
    "        sep_all.append(sep)\n",
    "        sep = []"
   ]
  },
  {
   "cell_type": "code",
   "execution_count": null,
   "metadata": {},
   "outputs": [],
   "source": [
    "sep_all"
   ]
  },
  {
   "cell_type": "code",
   "execution_count": null,
   "metadata": {},
   "outputs": [],
   "source": [
    "\"\"\"\n",
    "Sum = 0\n",
    "length = 0\n",
    "for region in rna_intervals:\n",
    "    Sum += region[2]*(region[1] - region[0])\n",
    "    length += region[1]-region[0]\n",
    "mean = Sum/length\n",
    "mean\n",
    "\"\"\""
   ]
  },
  {
   "cell_type": "code",
   "execution_count": null,
   "metadata": {},
   "outputs": [],
   "source": [
    "#deleting constant array and low signal array\n",
    "region2 = []\n",
    "for reg in sep_all:\n",
    "    cnt = 0\n",
    "    qcnt = 0\n",
    "    for i in range(len(reg)-1):\n",
    "        if reg[i][1] == reg[i+1][1]:\n",
    "            cnt += 1\n",
    "        if reg[i][1] in mx2:\n",
    "            qcnt += 1\n",
    "    if cnt != len(reg)-1 and qcnt > 0:\n",
    "        region2.append(reg)"
   ]
  },
  {
   "cell_type": "code",
   "execution_count": null,
   "metadata": {},
   "outputs": [],
   "source": [
    "len(region2)"
   ]
  },
  {
   "cell_type": "code",
   "execution_count": null,
   "metadata": {},
   "outputs": [],
   "source": [
    "\"\"\"\n",
    "atac_seq_with_rna_all = []\n",
    "for reg in region2:\n",
    "    atac_seq_with_rna = []\n",
    "    for i in range(reg[0][0]-1000,reg[0][0]):\n",
    "        atac_seq_with_rna.append((i,atac_bw.stats('chr19',i-1,i)[0]))\n",
    "    atac_seq_with_rna_all.append(atac_seq_with_rna)\n",
    "\"\"\""
   ]
  },
  {
   "cell_type": "code",
   "execution_count": null,
   "metadata": {},
   "outputs": [],
   "source": [
    "#qc\n",
    "sep2 = []\n",
    "sep_all2= []\n",
    "ct = 0\n",
    "for interv in atac_intervals:\n",
    "    #if interv[2]:\n",
    "    if interv[2] in mx:\n",
    "        sep2.append(interv)\n",
    "        #ct += 1\n",
    "    else:\n",
    "        if len(sep2) > 0: # and ct > 0:\n",
    "            sep_all2.append(sep2)\n",
    "        sep2=[]\n",
    "    #    ct = 0"
   ]
  },
  {
   "cell_type": "code",
   "execution_count": null,
   "metadata": {},
   "outputs": [],
   "source": [
    "len(sep_all2)"
   ]
  },
  {
   "cell_type": "code",
   "execution_count": null,
   "metadata": {},
   "outputs": [],
   "source": [
    "#len(atac_seq_with_rna_all)"
   ]
  },
  {
   "cell_type": "code",
   "execution_count": null,
   "metadata": {},
   "outputs": [],
   "source": [
    "#used\n",
    "mean2 = rna_bw.stats('chr19')[0]\n",
    "mx2 = rna_bw.stats('chr19',type=\"max\", nBins=3) #10\n",
    "mx2"
   ]
  },
  {
   "cell_type": "code",
   "execution_count": null,
   "metadata": {},
   "outputs": [],
   "source": [
    "peak_all2 = []\n",
    "for interv in rna_intervals:\n",
    "    if interv[2] in mx2:\n",
    "        peak3 = []\n",
    "        for i in range(interv[0]+1,interv[1]+1):\n",
    "            peak3.append((i,interv[2]))\n",
    "        peak_all2.append(peak3)"
   ]
  },
  {
   "cell_type": "code",
   "execution_count": null,
   "metadata": {},
   "outputs": [],
   "source": [
    "len(peak_all2)"
   ]
  },
  {
   "cell_type": "code",
   "execution_count": null,
   "metadata": {},
   "outputs": [],
   "source": [
    "rna_peak_group = []\n",
    "for region in peak_all2:\n",
    "    pre_ = [(i,rna_bw.stats('chr19',i-1,i)[0]) for i in range(region[0][0]-500,region[0][0])]\n",
    "    app_ = [(i,rna_bw.stats('chr19',i-1,i)[0]) for i in range(region[-1][0]+1,region[-1][0]+501)]\n",
    "    rna_peak_group.append(pre_ + region + app_)"
   ]
  },
  {
   "cell_type": "code",
   "execution_count": null,
   "metadata": {},
   "outputs": [],
   "source": [
    "rna_peak_group"
   ]
  },
  {
   "cell_type": "code",
   "execution_count": null,
   "metadata": {},
   "outputs": [],
   "source": [
    "#used\n",
    "mean = atac_bw.stats('chr19')[0]\n",
    "mx = atac_bw.stats('chr19',type=\"max\", nBins=22) #22\n",
    "mx"
   ]
  },
  {
   "cell_type": "code",
   "execution_count": null,
   "metadata": {},
   "outputs": [],
   "source": [
    "peak_all = []\n",
    "for interv in atac_intervals:\n",
    "    if interv[2] in mx:\n",
    "        peak3 = []\n",
    "        for i in range(interv[0]+1,interv[1]+1):\n",
    "            peak3.append((i,interv[2]))\n",
    "        peak_all.append(peak3)"
   ]
  },
  {
   "cell_type": "code",
   "execution_count": null,
   "metadata": {},
   "outputs": [],
   "source": [
    "len(peak_all)"
   ]
  },
  {
   "cell_type": "code",
   "execution_count": null,
   "metadata": {},
   "outputs": [],
   "source": [
    "atac_peak_group = []\n",
    "for region in peak_all:\n",
    "    pre_ = [(i,atac_bw.stats('chr19',i-1,i)[0]) for i in range(region[0][0]-500,region[0][0])]\n",
    "    app_ = [(i,atac_bw.stats('chr19',i-1,i)[0]) for i in range(region[-1][0]+1,region[-1][0]+501)]\n",
    "    atac_peak_group.append(pre_ + region + app_)"
   ]
  },
  {
   "cell_type": "code",
   "execution_count": null,
   "metadata": {},
   "outputs": [],
   "source": [
    "atac_peak_group"
   ]
  },
  {
   "cell_type": "code",
   "execution_count": null,
   "metadata": {},
   "outputs": [],
   "source": [
    "#atac_peak_group.reverse()"
   ]
  },
  {
   "cell_type": "code",
   "execution_count": null,
   "metadata": {},
   "outputs": [],
   "source": [
    "#atac_peak_group"
   ]
  },
  {
   "cell_type": "code",
   "execution_count": null,
   "metadata": {},
   "outputs": [],
   "source": [
    "\"\"\"\n",
    "new_atac2 = []\n",
    "new_rna2 = []\n",
    "for rna in rna_peak_group:\n",
    "    new_atac = []\n",
    "    new_rna = []\n",
    "    for atac in atac_peak_group:\n",
    "        if rna[0][0] > atac[-1][0]:\n",
    "            new_rna.append(rna)\n",
    "            new_atac.append(atac)\n",
    "            new_rna2.append(new_rna)\n",
    "            new_atac2.append(new_atac)\n",
    "            break\n",
    "    #if len(new_atac) > 0:\n",
    "    #    break\n",
    "\"\"\""
   ]
  },
  {
   "cell_type": "code",
   "execution_count": null,
   "metadata": {},
   "outputs": [],
   "source": [
    "\"\"\"\n",
    "region=[]\n",
    "for reg in sep_all2:\n",
    "    reg2=[]\n",
    "    for interv in reg:\n",
    "        for base in range(interv[0]+1,interv[1]+1):\n",
    "            reg2.append((base,interv[2]))\n",
    "    region.append(reg2)\n",
    "\"\"\""
   ]
  },
  {
   "cell_type": "code",
   "execution_count": null,
   "metadata": {},
   "outputs": [],
   "source": [
    "atac_qc_sign = pd.DataFrame(atac_peak_group)\n",
    "rna_qc_sign = pd.DataFrame(rna_peak_group)"
   ]
  },
  {
   "cell_type": "code",
   "execution_count": null,
   "metadata": {},
   "outputs": [],
   "source": [
    "rna_qc_sign.shape"
   ]
  },
  {
   "cell_type": "code",
   "execution_count": null,
   "metadata": {},
   "outputs": [],
   "source": [
    "atac_qc_sign.shape"
   ]
  },
  {
   "cell_type": "code",
   "execution_count": null,
   "metadata": {},
   "outputs": [],
   "source": [
    "atac_qc_sign.to_csv(\"atac_qc2.tsv\",index=False)\n",
    "rna_qc_sign.to_csv(\"rna_qc2.tsv\",index=False)"
   ]
  },
  {
   "cell_type": "code",
   "execution_count": null,
   "metadata": {},
   "outputs": [],
   "source": []
  }
 ],
 "metadata": {
  "kernelspec": {
   "display_name": "Python 3",
   "language": "python",
   "name": "python3"
  },
  "language_info": {
   "codemirror_mode": {
    "name": "ipython",
    "version": 3
   },
   "file_extension": ".py",
   "mimetype": "text/x-python",
   "name": "python",
   "nbconvert_exporter": "python",
   "pygments_lexer": "ipython3",
   "version": "3.6.8"
  }
 },
 "nbformat": 4,
 "nbformat_minor": 2
}
